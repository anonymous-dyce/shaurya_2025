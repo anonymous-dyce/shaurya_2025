{
 "cells": [
  {
   "cell_type": "code",
   "execution_count": null,
   "metadata": {},
   "outputs": [],
   "source": [
    "person_one = \"arnav\"\n",
    "\n",
    "person_two = \"lars\"\n",
    "\n",
    "person_three = \"weston\"\n",
    "\n",
    "print(\"Person 1:\", person_one, \"\\nPerson 2:\", person_two, \"\\nPerson 3:\", person_three)\n",
    "\n",
    "fruits = {\n",
    "    \"apple\": \"red\",\n",
    "    \"tangerine\": \"orange\",\n",
    "    \"banana\": \"yellow\"\n",
    "}\n",
    "\n",
    "print(fruits[\"apple\"], fruits[\"tangerine\"], fruits[\"banana\"])\n",
    "\n"
   ]
  }
 ],
 "metadata": {
  "language_info": {
   "name": "python"
  }
 },
 "nbformat": 4,
 "nbformat_minor": 2
}
