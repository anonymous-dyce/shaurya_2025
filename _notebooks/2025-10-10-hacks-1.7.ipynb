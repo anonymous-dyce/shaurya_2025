{
 "cells": [
  {
   "cell_type": "markdown",
   "id": "8c6bf8b1",
   "metadata": {},
   "source": [
    "---\n",
    "layout: page\n",
    "title: 1.7 Compound Assignment Operators - Hacks\n",
    "description: Popcorn & HW Hacks for 1.7\n",
    "toc: true\n",
    "type: hacks\n",
    "permalink: /blogs/hacks-1.7/\n",
    "categories: [CSA Classwork]\n",
    "---\n",
    "\n",
    "## Popcorn Hack #1:"
   ]
  },
  {
   "cell_type": "code",
   "execution_count": 1,
   "id": "aa31b385",
   "metadata": {
    "vscode": {
     "languageId": "java"
    }
   },
   "outputs": [
    {
     "name": "stdout",
     "output_type": "stream",
     "text": [
      "3^4 = 81.0\n",
      "Square root of 64 = 8.0\n",
      "Number of colors in the list = 3\n"
     ]
    }
   ],
   "source": [
    "import java.util.ArrayList;\n",
    "\n",
    "public class PopcornHack1 {\n",
    "    public static void main(String[] args) {\n",
    "\n",
    "        double power = Math.pow(3, 4);\n",
    "        System.out.println(\"3^4 = \" + power);\n",
    "\n",
    "        double sqrt = Math.sqrt(64);\n",
    "        System.out.println(\"Square root of 64 = \" + sqrt);\n",
    "\n",
    "        ArrayList<String> colors = new ArrayList<>();\n",
    "\n",
    "        colors.add(\"red\");\n",
    "        colors.add(\"blue\");\n",
    "        colors.add(\"green\");\n",
    "\n",
    "        System.out.println(\"Number of colors in the list = \" + colors.size());\n",
    "    }\n",
    "}\n",
    "\n",
    "PopcornHack1.main(null);"
   ]
  },
  {
   "cell_type": "markdown",
   "id": "2131de76",
   "metadata": {},
   "source": [
    "## Popcorn Hack #2:"
   ]
  },
  {
   "cell_type": "code",
   "execution_count": 4,
   "id": "8b8e73c6",
   "metadata": {
    "vscode": {
     "languageId": "java"
    }
   },
   "outputs": [
    {
     "name": "stdout",
     "output_type": "stream",
     "text": [
      "Book Title: Java Basics\n",
      "Author: Shaurya Singh\n",
      "Pages: 350\n",
      "Is the book long? true\n"
     ]
    }
   ],
   "source": [
    "public class Book {\n",
    "    private String title;\n",
    "    private String author;\n",
    "    private int pages;\n",
    "\n",
    "    public Book(String title, String author, int pages) {\n",
    "        this.title = title;\n",
    "        this.author = author;\n",
    "        this.pages = pages;\n",
    "    }\n",
    "\n",
    "    public void displayInfo() {\n",
    "        System.out.println(\"Book Title: \" + title);\n",
    "        System.out.println(\"Author: \" + author);\n",
    "        System.out.println(\"Pages: \" + pages);\n",
    "    }\n",
    "\n",
    "    public boolean isLong() {\n",
    "        return pages > 300;\n",
    "    }\n",
    "}\n",
    "\n",
    "Book myBook = new Book(\"Java Basics\", \"Shaurya Singh\", 350);\n",
    "\n",
    "myBook.displayInfo();\n",
    "\n",
    "\n",
    "System.out.println(\"Is the book long? \" + myBook.isLong());"
   ]
  },
  {
   "cell_type": "markdown",
   "id": "cc95fe53",
   "metadata": {},
   "source": [
    "## Homework Hack:"
   ]
  },
  {
   "cell_type": "code",
   "execution_count": 5,
   "id": "23c62986",
   "metadata": {
    "vscode": {
     "languageId": "java"
    }
   },
   "outputs": [
    {
     "name": "stdout",
     "output_type": "stream",
     "text": [
      "--- Phone 1 Info ---\n",
      "Brand: Apple\n",
      "Model: iPhone 15\n",
      "Battery Level: 80%\n",
      "Contacts: [Shaurya, Bella, Rudransh]\n",
      "\n",
      "--- Phone 2 Info ---\n",
      "Brand: Samsung\n",
      "Model: Galaxy S23\n",
      "Battery Level: 55%\n",
      "Contacts: [Arnav, Nikhil, Xavier]\n"
     ]
    }
   ],
   "source": [
    "import java.util.ArrayList;\n",
    "\n",
    "public class Phone {\n",
    "    // Attributes\n",
    "    private String brand;\n",
    "    private String model;\n",
    "    private int batteryLevel;\n",
    "    private ArrayList<String> contacts;\n",
    "\n",
    "    // Constructor\n",
    "    public Phone(String brand, String model) {\n",
    "        this.brand = brand;\n",
    "        this.model = model;\n",
    "        this.batteryLevel = 100; // starts at 100\n",
    "        this.contacts = new ArrayList<>();\n",
    "    }\n",
    "\n",
    "    // Display brand, model, and battery\n",
    "    public void displayInfo() {\n",
    "        System.out.println(\"Brand: \" + brand);\n",
    "        System.out.println(\"Model: \" + model);\n",
    "        System.out.println(\"Battery Level: \" + batteryLevel + \"%\");\n",
    "    }\n",
    "\n",
    "    // Add a contact\n",
    "    public void addContact(String name) {\n",
    "        contacts.add(name);\n",
    "    }\n",
    "\n",
    "    // Show all contacts\n",
    "    public void showContacts() {\n",
    "        System.out.println(\"Contacts: \" + contacts);\n",
    "    }\n",
    "\n",
    "    // Use phone for some minutes\n",
    "    public void usePhone(int minutes) {\n",
    "        batteryLevel -= minutes;\n",
    "        if (batteryLevel < 0) batteryLevel = 0;\n",
    "    }\n",
    "}\n",
    "\n",
    "public class PhoneTest {\n",
    "    public static void main(String[] args) {\n",
    "        // Create 2 Phone objects\n",
    "        Phone phone1 = new Phone(\"Apple\", \"iPhone 15\");\n",
    "        Phone phone2 = new Phone(\"Samsung\", \"Galaxy S23\");\n",
    "\n",
    "        // Add 3 contacts to each phone\n",
    "        phone1.addContact(\"Shaurya\");\n",
    "        phone1.addContact(\"Bella\");\n",
    "        phone1.addContact(\"Rudransh\");\n",
    "\n",
    "        phone2.addContact(\"Arnav\");\n",
    "        phone2.addContact(\"Nikhil\");\n",
    "        phone2.addContact(\"Xavier\");\n",
    "\n",
    "        // Use phones for some minutes\n",
    "        phone1.usePhone(20);\n",
    "        phone2.usePhone(45);\n",
    "\n",
    "        // Display all information\n",
    "        System.out.println(\"--- Phone 1 Info ---\");\n",
    "        phone1.displayInfo();\n",
    "        phone1.showContacts();\n",
    "\n",
    "        System.out.println(\"\\n--- Phone 2 Info ---\");\n",
    "        phone2.displayInfo();\n",
    "        phone2.showContacts();\n",
    "    }\n",
    "}\n",
    "\n",
    "PhoneTest.main(null);"
   ]
  }
 ],
 "metadata": {
  "kernelspec": {
   "display_name": "java (JJava/j!)",
   "language": "java",
   "name": "jbang-jjava"
  },
  "language_info": {
   "codemirror_mode": "java",
   "file_extension": ".jshell",
   "mimetype": "text/x-java-source",
   "name": "Java",
   "pygments_lexer": "java",
   "version": "21.0.8+9-Ubuntu-0ubuntu124.04.1"
  }
 },
 "nbformat": 4,
 "nbformat_minor": 5
}
