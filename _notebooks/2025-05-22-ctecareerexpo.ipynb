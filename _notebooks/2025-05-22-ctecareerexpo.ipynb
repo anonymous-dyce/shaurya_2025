{
 "cells": [
  {
   "cell_type": "markdown",
   "id": "81902ea3",
   "metadata": {},
   "source": [
    "---\n",
    "layout: page\n",
    "title: 2025 CTE Career Expo Visit \n",
    "toc: true\n",
    "permalink: /blogs/ctecareerexpo2025/ \n",
    "categories: [Shaurya's Blogs]\n",
    "---"
   ]
  },
  {
   "cell_type": "markdown",
   "id": "46690766",
   "metadata": {},
   "source": [
    "### Proof of me going to CTE Career Expo, Staying at our Booth, and Interacting With Other Groups:\n",
    "\n",
    "<img src=\"{{ site.baseurl }}/images/IMG_6536.JPG\">\n",
    "\n",
    "<img src=\"{{ site.baseurl }}/images/IMG_6537.JPG\">\n",
    "\n",
    "<img src=\"{{ site.baseurl }}/images/IMG_6539.jpg\">\n",
    "\n",
    "<img src=\"{{ site.baseurl }}/images/IMG_6540.jpg\">"
   ]
  }
 ],
 "metadata": {
  "language_info": {
   "name": "python"
  }
 },
 "nbformat": 4,
 "nbformat_minor": 5
}
