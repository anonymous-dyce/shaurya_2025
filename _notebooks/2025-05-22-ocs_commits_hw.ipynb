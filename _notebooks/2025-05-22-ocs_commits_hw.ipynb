{
 "cells": [
  {
   "cell_type": "markdown",
   "id": "f7f96282",
   "metadata": {},
   "source": [
    "---\n",
    "layout: page\n",
    "title: Commit History for Open Coding Society Feature, BI3+5 Homework Hacks\n",
    "toc: true\n",
    "permalink: /blogs/ocs_commits_hw/ \n",
    "categories: [Shaurya's Blogs]\n",
    "---"
   ]
  },
  {
   "cell_type": "markdown",
   "id": "82c35c6a",
   "metadata": {},
   "source": [
    "## Backend analytics:\n",
    "\n",
    "<img src=\"{{ site.baseurl }}/images/ocsch_img1.png\">\n",
    "\n",
    "## My commits on backend:\n",
    "\n",
    "<img src=\"{{ site.baseurl }}/images/ocsch_img2.png\">\n",
    "\n",
    "<img src=\"{{ site.baseurl }}/images/ocsch_img10.png\">\n",
    "\n",
    "## My commits on frontend:\n",
    "\n",
    "<img src=\"{{ site.baseurl }}/images/ocsch_img3.png\">\n",
    "\n",
    "<button class=\"regularButton\"><a href=\"https://github.com/ThePencilSharpener/student_2026/issues/5\">Link to Individual Issue (User Story + Burndown List Format)</a></button>\n",
    "\n",
    "## Green squares on github profile:\n",
    "<img src=\"{{ site.baseurl }}/images/ocsch_img11.png\">\n",
    "\n",
    "## Accounts Quiz (linked on notebook):\n",
    "<img src=\"{{ site.baseurl }}/images/ocsch_img6.png\">\n",
    "\n",
    "<img src=\"{{ site.baseurl }}/images/ocsch_img7.png\">\n",
    "\n",
    "## Github Workflows Quiz (linked on notebook):\n",
    "<img src=\"{{ site.baseurl }}/images/ocsch_img5.png\">\n",
    "\n",
    "## Github Pages Quiz (linked on notebook):\n",
    "<img src=\"{{ site.baseurl }}/images/ocsch_img8.png\">\n",
    "\n",
    "<img src=\"{{ site.baseurl }}/images/ocsch_img9.png\">\n",
    "\n",
    "# Homework\n",
    "\n",
    "| #   | Topic                                                                 | Link                                                                 |\n",
    "|-----|-----------------------------------------------------------------------|----------------------------------------------------------------------|\n",
    "| 1   | Computing Bias                                                        | [Link](https://github.com/anonymous-dyce/shaurya_2025/issues/5)      |\n",
    "| 2   | Digital Divide                                                           | [Link](https://github.com/anonymous-dyce/shaurya_2025/issues/6)      |\n",
    "| 3   | Crowdsourcing                                                           | [Link](https://github.com/anonymous-dyce/shaurya_2025/issues/7)      |\n",
    "| 4   | Safe Computing                                                          | [Link](https://github.com/anonymous-dyce/shaurya_2025/issues/8)      |\n",
    "| 5   | Undecidable Problems                                                    | [Link](https://github.com/anonymous-dyce/shaurya_2025/issues/5)      |\n",
    "| 6   | Lists and Filtering Algorithms                                        | [Link](https://github.com/anonymous-dyce/shaurya_2025/issues/5)      |\n",
    "| 7   | Safe Computing                                                        | [Link](https://github.com/anonymous-dyce/shaurya_2025/issues/5)      |\n",
    "| 8   | Computing Bias                                                        | [Link](https://github.com/anonymous-dyce/shaurya_2025/issues/5)      |\n",
    "| 9   | Crowdsourcing in Computing                                            | [Link](https://github.com/anonymous-dyce/shaurya_2025/issues/5)      |\n",
    "| 10  | Digital Divide                                                        | [Link](https://github.com/anonymous-dyce/shaurya_2025/issues/5)      |\n",
    "| 11  | Beneficial and Harmful Effects of Computing                           | [Link](https://github.com/anonymous-dyce/shaurya_2025/issues/5)      |"
   ]
  },
  {
   "cell_type": "markdown",
   "id": "92bf0e28",
   "metadata": {},
   "source": []
  }
 ],
 "metadata": {
  "language_info": {
   "name": "python"
  }
 },
 "nbformat": 4,
 "nbformat_minor": 5
}
