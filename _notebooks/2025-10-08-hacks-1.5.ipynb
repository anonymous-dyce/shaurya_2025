{
 "cells": [
  {
   "cell_type": "markdown",
   "id": "5cf3b3ef",
   "metadata": {},
   "source": [
    "---\n",
    "layout: page\n",
    "title: 1.5 Casting and Range of Variables - Hacks\n",
    "description: Popcorn & HW Hacks for 1.5\n",
    "toc: true\n",
    "type: hacks\n",
    "permalink: /blogs/hacks-1.5/\n",
    "categories: [CSA Classwork]\n",
    "---"
   ]
  },
  {
   "cell_type": "markdown",
   "id": "a785c9b8",
   "metadata": {
    "vscode": {
     "languageId": "plaintext"
    }
   },
   "source": [
    "## Hack #1:\n",
    "\n",
    "Predicted output:\n",
    "- 2\n",
    "- 2\n",
    "- 2.0\n",
    "- 2.5\n",
    "\n",
    "Actual:"
   ]
  },
  {
   "cell_type": "code",
   "execution_count": 1,
   "id": "84ddd955",
   "metadata": {},
   "outputs": [
    {
     "name": "stdout",
     "output_type": "stream",
     "text": [
      "2\n",
      "2\n",
      "2.0\n",
      "2.5\n"
     ]
    }
   ],
   "source": [
    "int a = 10, b = 4;\n",
    "System.out.println(a / b);\n",
    "System.out.println(a % b);\n",
    "System.out.println((double)(a / b));\n",
    "System.out.println((double)a / b);"
   ]
  },
  {
   "cell_type": "markdown",
   "id": "e0000185",
   "metadata": {},
   "source": [
    "## Hack 2:\n",
    "\n",
    "Predicted output:\n",
    "- -2\n",
    "- -3\n",
    "- 3\n",
    "\n",
    "Actual:"
   ]
  },
  {
   "cell_type": "code",
   "execution_count": 2,
   "id": "1a04ad7b",
   "metadata": {},
   "outputs": [
    {
     "name": "stdout",
     "output_type": "stream",
     "text": [
      "-2\n",
      "-3\n",
      "3\n"
     ]
    }
   ],
   "source": [
    "double d = -2.6;\n",
    "System.out.println((int)d);\n",
    "System.out.println((int)(d - 0.5));\n",
    "System.out.println((int)(-d + 0.5));"
   ]
  },
  {
   "cell_type": "markdown",
   "id": "111fa247",
   "metadata": {},
   "source": [
    "## Hack 3:\n",
    "\n",
    "Predicted output:\n",
    "- 2147483647\n",
    "- -2147483647\n",
    "\n",
    "Actual:"
   ]
  },
  {
   "cell_type": "code",
   "execution_count": 3,
   "id": "adaa10c1",
   "metadata": {},
   "outputs": [
    {
     "name": "stdout",
     "output_type": "stream",
     "text": [
      "2147483647\n",
      "-2147483647\n"
     ]
    }
   ],
   "source": [
    "int x = Integer.MAX_VALUE;\n",
    "int y = x + 2;\n",
    "System.out.println(x);\n",
    "System.out.println(y);  // Circles from max to min value (-2147483648) by adding 1 to max"
   ]
  },
  {
   "cell_type": "markdown",
   "id": "bb859d29",
   "metadata": {},
   "source": [
    "## FRQ 1:"
   ]
  },
  {
   "cell_type": "code",
   "execution_count": 13,
   "id": "761a361b",
   "metadata": {},
   "outputs": [
    {
     "name": "stdout",
     "output_type": "stream",
     "text": [
      "Average of 6 and 7: 6.5\n",
      "Average of 67 and 41: 54.0\n"
     ]
    }
   ],
   "source": [
    "public class average {\n",
    "    \n",
    "    // Method to compute the average of two integers as a double\n",
    "    public static double avg(int a, int b) {\n",
    "        return ((double)a + b) / 2.0; // cast to double to preserve .5\n",
    "    }\n",
    "\n",
    "    public static void main(String[] args) {\n",
    "        // Example\n",
    "        System.out.println(\"Average of 6 and 7: \" + avg(6, 7));   // 6.5\n",
    "        System.out.println(\"Average of 67 and 41: \" + avg(67, 41));   // 54.0\n",
    "    }\n",
    "}\n",
    "\n",
    "// Run the main method\n",
    "average.main(null);"
   ]
  },
  {
   "cell_type": "markdown",
   "id": "a5a1ddf7",
   "metadata": {},
   "source": [
    "## FRQ 2:"
   ]
  },
  {
   "cell_type": "code",
   "execution_count": 14,
   "id": "b8ebd3b4",
   "metadata": {},
   "outputs": [
    {
     "name": "stdout",
     "output_type": "stream",
     "text": [
      "Percentage 6/7: 60.0\n",
      "Percentage 67/41: 35.0\n",
      "Percentage 0/0: 0.0\n"
     ]
    }
   ],
   "source": [
    "public class percentage {\n",
    "\n",
    "    // Method to compute percentage as a double\n",
    "    public static double percent(int correct, int total) {\n",
    "        if (total == 0) return 0.0;              // avoid division by zero\n",
    "        return 100.0 * ((double) correct) / total; // cast to double for precision\n",
    "    }\n",
    "\n",
    "    public static void main(String[] args) {\n",
    "        // Test examples\n",
    "        System.out.println(\"Percentage 6/7: \" + percent(6, 10));  // 60.0\n",
    "        System.out.println(\"Percentage 67/41: \" + percent(7, 20));    // 35.0\n",
    "        System.out.println(\"Percentage 0/0: \" + percent(0, 0));      // 0.0\n",
    "    }\n",
    "}\n",
    "\n",
    "// Run the main method\n",
    "percentage.main(null);"
   ]
  },
  {
   "cell_type": "markdown",
   "id": "10e5a0bc",
   "metadata": {},
   "source": [
    "## FRQ 3:"
   ]
  },
  {
   "cell_type": "code",
   "execution_count": 15,
   "id": "7b08c45b",
   "metadata": {},
   "outputs": [
    {
     "name": "stdout",
     "output_type": "stream",
     "text": [
      "safeMod(1, 2): 1\n",
      "safeMod(1, -2): 1\n",
      "safeMod(-1, 2): -1\n",
      "safeMod(67676767, 0): 0\n"
     ]
    }
   ],
   "source": [
    "public class remainder {\n",
    "\n",
    "    // Method to compute safe remainder\n",
    "    public static int safeMod(int a, int b) {\n",
    "        if (b == 0) return 0;   // avoid division by zero\n",
    "        return a % b;\n",
    "    }\n",
    "\n",
    "    public static void main(String[] args) {\n",
    "        // Test examples\n",
    "        System.out.println(\"safeMod(1, 2): \" + safeMod(10, 3));   // 1\n",
    "        System.out.println(\"safeMod(1, -2): \" + safeMod(7, -2));   // 1\n",
    "        System.out.println(\"safeMod(-1, 2): \" + safeMod(-7, 2));   // -1\n",
    "        System.out.println(\"safeMod(67676767, 0): \" + safeMod(5, 0));     // 0\n",
    "    }\n",
    "}\n",
    "\n",
    "// Run the main method\n",
    "remainder.main(null);"
   ]
  },
  {
   "cell_type": "markdown",
   "id": "62e333f2",
   "metadata": {},
   "source": [
    "## MCQ:\n",
    "\n",
    "1. C\n",
    "2. D\n",
    "3. B\n",
    "4. B\n",
    "5. B"
   ]
  }
 ],
 "metadata": {
  "kernelspec": {
   "display_name": "java (JJava/j!)",
   "language": "java",
   "name": "jbang-jjava"
  },
  "language_info": {
   "codemirror_mode": "java",
   "file_extension": ".jshell",
   "mimetype": "text/x-java-source",
   "name": "java",
   "pygments_lexer": "java",
   "version": "21.0.8+9-Ubuntu-0ubuntu124.04.1"
  }
 },
 "nbformat": 4,
 "nbformat_minor": 5
}
