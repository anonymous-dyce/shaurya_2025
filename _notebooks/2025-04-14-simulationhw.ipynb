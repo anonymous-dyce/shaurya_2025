{
 "cells": [
  {
   "cell_type": "markdown",
   "id": "7a3bbea7",
   "metadata": {},
   "source": [
    "---\n",
    "layout: page\n",
    "title: Simulation HW\n",
    "toc: true\n",
    "permalink: /binary_history/simulationhw\n",
    "---"
   ]
  },
  {
   "cell_type": "markdown",
   "id": "22ba7005",
   "metadata": {},
   "source": [
    "### Popcorn Hack 1:\n",
    "\n",
    "```python\n",
    "import random\n",
    "\n",
    "def roll_dice():\n",
    "    return random.randint(1,6)\n",
    "\n",
    "print(\"Dice roll:\", roll_dice())\n",
    "```\n",
    "\n",
    "### Popcorn Hack 2:\n",
    "\n",
    "```python\n",
    "import random\n",
    "\n",
    "def biased_color():\n",
    "    for i in range(10):\n",
    "        x = random.randint(1,10)\n",
    "        if x <= 5:\n",
    "            print(\"Red\")\n",
    "        elif x >= 8:\n",
    "            print(\"Blue\")\n",
    "        else:\n",
    "            print(\"Green\")\n",
    "\n",
    "biased_color()\n",
    "```\n",
    "\n",
    "### Homework Hack:\n",
    "\n",
    "```python\n",
    "import random\n",
    "\n",
    "def coin_flip_game():\n",
    "    player1_heads = 0\n",
    "    player2_heads = 0\n",
    "    rounds = 0\n",
    "\n",
    "    while player1_heads < 3 and player2_heads < 3:\n",
    "        rounds += 1\n",
    "        p1_flip = random.choice([\"heads\", \"tails\"])\n",
    "        p2_flip = random.choice([\"heads\", \"tails\"])\n",
    "\n",
    "        if p1_flip == \"heads\":\n",
    "            player1_heads += 1\n",
    "        if p2_flip == \"heads\":\n",
    "            player2_heads += 1\n",
    "\n",
    "        print(f\"Round {rounds}: Player 1 - {p1_flip}, Player 2 - {p2_flip}\")\n",
    "        print(f\"Heads count: Player 1 - {player1_heads}, Player 2 - {player2_heads}\\n\")\n",
    "\n",
    "    if player1_heads == 3:\n",
    "        print(f\"Player 1 wins in {rounds} rounds!\")\n",
    "    else:\n",
    "        print(f\"Player 2 wins in {rounds} rounds!\")\n",
    "\n",
    "coin_flip_game()\n",
    "```"
   ]
  }
 ],
 "metadata": {
  "kernelspec": {
   "display_name": "venv",
   "language": "python",
   "name": "python3"
  },
  "language_info": {
   "codemirror_mode": {
    "name": "ipython",
    "version": 3
   },
   "file_extension": ".py",
   "mimetype": "text/x-python",
   "name": "python",
   "nbconvert_exporter": "python",
   "pygments_lexer": "ipython3",
   "version": "3.12.3"
  }
 },
 "nbformat": 4,
 "nbformat_minor": 5
}
