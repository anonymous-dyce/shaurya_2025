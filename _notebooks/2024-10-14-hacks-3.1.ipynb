{
 "cells": [
  {
   "cell_type": "markdown",
   "metadata": {},
   "source": [
    "---\n",
    "layout: page\n",
    "title: 3.1 Hacks\n",
    "description: Popcorn & HW Hacks for Big Idea 3 Topic 1\n",
    "toc: true\n",
    "type: hacks\n",
    "permalink: /posts/2024/10/14/hacks-3.1_IPYNB_2_.html\n",
    "---"
   ]
  },
  {
   "cell_type": "markdown",
   "metadata": {},
   "source": [
    "### Popcorn Hacks 1-4"
   ]
  },
  {
   "cell_type": "code",
   "execution_count": null,
   "metadata": {},
   "outputs": [],
   "source": [
    "member_one = \"Arnav\"\n",
    "ethnicity = \"Indian\"\n",
    "\n",
    "member_two = \"Lars\"\n",
    "grade = 12\n",
    "\n",
    "member_three = \"Weston\"\n",
    "is_from_us = True"
   ]
  },
  {
   "cell_type": "code",
   "execution_count": 4,
   "metadata": {},
   "outputs": [
    {
     "name": "stdout",
     "output_type": "stream",
     "text": [
      "A(n) apple has the following attributes:\n",
      " {'color': 'red', 'shape': 'venn diagram'}\n",
      "A(n) banana has the following attributes:\n",
      " {'color': 'yellow', 'shape': 'crescent'}\n",
      "A(n) orange has the following attributes:\n",
      " {'color': 'orange', 'shape': 'sphere'}\n",
      "A(n) grape has the following attributes:\n",
      " {'color': 'green', 'shape': 'ellipse'}\n",
      "A(n) strawberry has the following attributes:\n",
      " {'color': 'red', 'shape': 'rounded-edge cone'}\n"
     ]
    }
   ],
   "source": [
    "fruits = {\n",
    "    \"apple\": {\n",
    "        \"color\": \"red\",\n",
    "        \"shape\": \"venn diagram\",\n",
    "    },\n",
    "    \"banana\": {\n",
    "        \"color\": \"yellow\",\n",
    "        \"shape\": \"crescent\",\n",
    "    },\n",
    "    \"orange\": {\n",
    "        \"color\": \"orange\",\n",
    "        \"shape\": \"sphere\",\n",
    "    },\n",
    "    \"grape\": {\n",
    "        \"color\": \"green\",\n",
    "        \"shape\": \"ellipse\",\n",
    "    },\n",
    "    \"strawberry\": {\n",
    "        \"color\": \"red\",\n",
    "        \"shape\": \"rounded-edge cone\",\n",
    "    }\n",
    "}\n",
    "\n",
    "for x,y in fruits.items():\n",
    "    print(\"A(n)\", x, \"has the following attributes:\\n\", y)"
   ]
  },
  {
   "cell_type": "code",
   "execution_count": null,
   "metadata": {
    "vscode": {
     "languageId": "javascript"
    }
   },
   "outputs": [],
   "source": [
    "%%js\n",
    "\n",
    "const personName = \"Shaurya\";\n",
    "const age = 15;\n",
    "\n",
    "const favoriteThings = {\n",
    "    flavor: \"Chocolate\",\n",
    "    snacks: \"pringles\",\n",
    "    food: \"tacos\",\n",
    "    drink: \"fanta\",\n",
    "}\n",
    "\n",
    "favoriteThings.food = \"burger\";\n",
    "console.log(personName + \" likes to eat \" + favoriteThings.food + \" and drink \" + favoriteThings.drink);"
   ]
  },
  {
   "cell_type": "code",
   "execution_count": null,
   "metadata": {
    "vscode": {
     "languageId": "javascript"
    }
   },
   "outputs": [],
   "source": [
    "%%js\n",
    "\n",
    "let fibonacci = [1, 1, 2, 3, 5, 8, 13];\n",
    "let peopleInGroup = [\"Arnav\", \"Ehren\", \"Lars\", \"Shaurya\", \"Weston\"];\n",
    "console.log(peopleInGroup + \" are the members in our group, but anyway, here are the first few fibonacci sequence numbers: \" + fibonacci)"
   ]
  },
  {
   "cell_type": "markdown",
   "metadata": {},
   "source": [
    "### Homework Hacks 5-6"
   ]
  },
  {
   "cell_type": "code",
   "execution_count": null,
   "metadata": {
    "vscode": {
     "languageId": "javascript"
    }
   },
   "outputs": [],
   "source": [
    "%%js\n",
    "\n",
    "// declare constants for personal info that can't change\n",
    "const personName = \"Shaurya\";\n",
    "const grade = 11;\n",
    "const isIndian = true;\n",
    "\n",
    "// declare let for temprary information that can change\n",
    "let favActivity = \"cycling\";\n",
    "\n",
    "// use function with parameters to print out a sentence using all the const and let variables\n",
    "function printStatement(var1, var2, var3, var4) {\n",
    "    console.log(\"My name is \" + personName + \". I am in \" + grade + \"th grade and it is \" + isIndian + \" that I am Indian and like \" + favActivity);\n",
    "}\n",
    "\n",
    "printStatement(personName, grade, isIndian, favActivity)\n"
   ]
  },
  {
   "cell_type": "code",
   "execution_count": 26,
   "metadata": {},
   "outputs": [
    {
     "name": "stdout",
     "output_type": "stream",
     "text": [
      "Calculate your average grade!\n",
      "The average grade you have is 90 percent.\n"
     ]
    }
   ],
   "source": [
    "print(\"Calculate your average grade!\")\n",
    "\n",
    "#create variable with no value to add all the grades to\n",
    "sum_of_grades = 0\n",
    "#create a counter to keep track of how many grades the user entered, start from 1 to account for the first class's grade\n",
    "grade_counter = 1\n",
    "\n",
    "#ask the grade for the first class and add it to empty variable\n",
    "grade1 = int(input(\"Enter your first class's grade: \"))\n",
    "sum_of_grades += grade1\n",
    "\n",
    "#ask the grade for the following classes (can be any number of classes)\n",
    "while True: #use while loop to add as many grades as user wants\n",
    "    grade_next = int(input(\"Enter your next class's grade, enter -1 when you're done: \"))\n",
    "    if grade_next == -1: #use if else statement, the student enters -1 the while loop stops and when they enter a regular grade the loop continues\n",
    "        break\n",
    "    else:\n",
    "        sum_of_grades += grade_next #add the grade value to the first class's grade\n",
    "        grade_counter += 1 #counts an additional grade each time\n",
    "\n",
    "print(\"The average grade you have is\", int(sum_of_grades / grade_counter), \"percent.\") #get the integer of the sum of all your grades divided by the number of grades you inputted"
   ]
  }
 ],
 "metadata": {
  "kernelspec": {
   "display_name": "venv",
   "language": "python",
   "name": "python3"
  },
  "language_info": {
   "codemirror_mode": {
    "name": "ipython",
    "version": 3
   },
   "file_extension": ".py",
   "mimetype": "text/x-python",
   "name": "python",
   "nbconvert_exporter": "python",
   "pygments_lexer": "ipython3",
   "version": "3.12.3"
  }
 },
 "nbformat": 4,
 "nbformat_minor": 2
}
