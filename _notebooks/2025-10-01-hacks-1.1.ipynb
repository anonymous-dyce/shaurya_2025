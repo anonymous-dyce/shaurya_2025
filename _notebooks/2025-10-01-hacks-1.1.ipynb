{
 "cells": [
  {
   "cell_type": "markdown",
   "id": "6cd75560",
   "metadata": {},
   "source": [
    "---\n",
    "layout: page\n",
    "title: 1.1 Hacks\n",
    "description: Popcorn & HW Hacks for 1.1\n",
    "toc: true\n",
    "type: hacks\n",
    "permalink: /blogs/hacks-1.1/\n",
    "categories: [CSA Classwork]\n",
    "---"
   ]
  },
  {
   "cell_type": "markdown",
   "id": "f2c051be",
   "metadata": {},
   "source": [
    "## Hack 1:\n",
    "\n",
    "Algorithm:\n",
    "\n",
    "1. Gather ingredients: flour, yeast, salt, sugar, water, olive oil, tomato sauce, cheese, and toppings.\n",
    "\n",
    "2. Mix warm water, yeast, and sugar in a bowl; let it sit for 5–10 minutes until foamy.\n",
    "\n",
    "3. In another bowl, combine flour and salt.\n",
    "\n",
    "4. Pour in the yeast mixture and olive oil, then mix until dough forms.\n",
    "\n",
    "5. Knead the dough on a floured surface for 8–10 minutes until smooth and elastic.\n",
    "\n",
    "6. Place the dough in a greased bowl, cover it, and let it rise for 1 hour or until doubled in size.\n",
    "\n",
    "7. Preheat the oven to 475°F (245°C).\n",
    "\n",
    "8. Roll out the dough into a circle and place it on a pizza pan.\n",
    "\n",
    "9. Spread tomato sauce evenly, sprinkle cheese, and add desired toppings.\n",
    "\n",
    "10. Bake for 12–15 minutes until the crust is golden brown.\n",
    "\n",
    "11. Remove from the oven.\n",
    "\n",
    "12. Slice pizza into 8 sections.\n",
    "\n",
    "## Hack 2:\n",
    "\n",
    "1. Open your email application.\n",
    "\n",
    "2. Log into your account.\n",
    "\n",
    "3. Enter the recipient’s email address.\n",
    "\n",
    "4. Write the subject line.\n",
    "\n",
    "5. Type the message.\n",
    "\n",
    "6. Click “Send.”\n",
    "\n",
    "## Hack 3:"
   ]
  },
  {
   "cell_type": "code",
   "execution_count": null,
   "id": "63b78228",
   "metadata": {},
   "outputs": [
    {
     "name": "stdout",
     "output_type": "stream",
     "text": [
      "Test 1: A\n",
      "Test 2: B\n",
      "Test 3: C\n",
      "Test 4: D\n",
      "Test 5: F\n",
      "Your score: A\n"
     ]
    }
   ],
   "source": [
    "# Get three test scores from user\n",
    "number1 = int(input(\"Enter the first number:\"))\n",
    "number2 = int(input(\"Enter the second number:\"))\n",
    "number3 = int(input(\"Enter the third number:\"))\n",
    "\n",
    "def calculate_grade(score1, score2, score3):\n",
    "    # Add them together\n",
    "    number = score1 + score2 + score3\n",
    "\n",
    "    # Divide by 3 to get average\n",
    "    number /= 3\n",
    "\n",
    "    # Steps 4-8\n",
    "    if number >= 90:\n",
    "        grade = \"A\"\n",
    "\n",
    "    elif number >= 80:\n",
    "        grade = \"B\"\n",
    "\n",
    "    elif number >= 70:\n",
    "        grade = \"C\"\n",
    "\n",
    "    elif number >= 60:\n",
    "        grade = \"D\"\n",
    "\n",
    "    else:\n",
    "        grade = \"F\"\n",
    "\n",
    "    return grade\n",
    "\n",
    "# Display the grade:\n",
    "print(\"Test 1:\", calculate_grade(95, 92, 88))  # Should be 'A'\n",
    "print(\"Test 2:\", calculate_grade(85, 80, 82))  # Should be 'B'\n",
    "print(\"Test 3:\", calculate_grade(75, 70, 72))  # Should be 'C'\n",
    "print(\"Test 4:\", calculate_grade(65, 60, 62))  # Should be 'D'\n",
    "print(\"Test 5:\", calculate_grade(55, 50, 52))  # Should be 'F'\n",
    "print(\"Your score:\", calculate_grade(number1, number2, number3))"
   ]
  }
 ],
 "metadata": {
  "kernelspec": {
   "display_name": "venv (3.12.3)",
   "language": "python",
   "name": "python3"
  },
  "language_info": {
   "codemirror_mode": {
    "name": "ipython",
    "version": 3
   },
   "file_extension": ".py",
   "mimetype": "text/x-python",
   "name": "python",
   "nbconvert_exporter": "python",
   "pygments_lexer": "ipython3",
   "version": "3.12.3"
  }
 },
 "nbformat": 4,
 "nbformat_minor": 5
}
