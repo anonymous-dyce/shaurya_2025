{
 "cells": [
  {
   "cell_type": "markdown",
   "id": "5c2cb526",
   "metadata": {},
   "source": [
    "---\n",
    "layout: page\n",
    "title: Binary Search HW\n",
    "toc: true\n",
    "permalink: /binary_history/binarysearchhw\n",
    "---"
   ]
  },
  {
   "cell_type": "markdown",
   "id": "9f963d76",
   "metadata": {},
   "source": [
    "#### Homework Hack #1\n",
    "\n",
    "```python\n",
    "\n",
    "def search(nums, target):\n",
    "    left = 0\n",
    "    right = len(nums) - 1\n",
    "\n",
    "    while left <= right:\n",
    "        mid = (left + right) // 2\n",
    "\n",
    "        if nums[mid] == target:\n",
    "            return mid\n",
    "\n",
    "        if nums[left] <= nums[mid]:  # Left half is sorted\n",
    "            if nums[left] <= target < nums[mid]:\n",
    "                right = mid - 1\n",
    "            else:\n",
    "                left = mid + 1\n",
    "        else:  # Right half is sorted\n",
    "            if nums[mid] < target <= nums[right]:\n",
    "                left = mid + 1\n",
    "            else:\n",
    "                right = mid - 1\n",
    "\n",
    "    return -1"
   ]
  },
  {
   "cell_type": "markdown",
   "id": "6d4a459f",
   "metadata": {},
   "source": [
    "#### Homework Hack #2\n",
    "\n",
    "``` python\n",
    "\n",
    "def find_first_last(nums, target):\n",
    "\n",
    "    first = -1\n",
    "    left = 0\n",
    "    right = len(nums) - 1\n",
    "    while left <= right:\n",
    "        mid = (left + right) // 2\n",
    "        if nums[mid] >= target:\n",
    "            if nums[mid] == target:\n",
    "                first = mid\n",
    "            right = mid - 1\n",
    "        else:\n",
    "            left = mid + 1\n",
    "\n",
    "    last = -1\n",
    "    left = 0\n",
    "    right = len(nums) - 1\n",
    "    while left <= right:\n",
    "        mid = (left + right) // 2\n",
    "        if nums[mid] <= target:\n",
    "            if nums[mid] == target:\n",
    "                last = mid\n",
    "            left = mid + 1\n",
    "        else:\n",
    "            right = mid - 1\n",
    "\n",
    "    return (first, last) if first != -1 else -1"
   ]
  },
  {
   "cell_type": "markdown",
   "id": "8cbbadc5",
   "metadata": {},
   "source": [
    "#### Homework Hack #3\n",
    "\n",
    "``` python\n",
    "\n",
    "def smallest_ge(nums, target):\n",
    "    result = -1\n",
    "    left = 0\n",
    "    right = len(nums) - 1\n",
    "\n",
    "    while left <= right:\n",
    "        mid = (left + right) // 2\n",
    "        if nums[mid] >= target:\n",
    "            result = mid\n",
    "            right = mid - 1\n",
    "        else:\n",
    "            left = mid + 1\n",
    "\n",
    "    return result"
   ]
  }
 ],
 "metadata": {
  "kernelspec": {
   "display_name": "venv",
   "language": "python",
   "name": "python3"
  },
  "language_info": {
   "codemirror_mode": {
    "name": "ipython",
    "version": 3
   },
   "file_extension": ".py",
   "mimetype": "text/x-python",
   "name": "python",
   "nbconvert_exporter": "python",
   "pygments_lexer": "ipython3",
   "version": "3.12.3"
  }
 },
 "nbformat": 4,
 "nbformat_minor": 5
}
