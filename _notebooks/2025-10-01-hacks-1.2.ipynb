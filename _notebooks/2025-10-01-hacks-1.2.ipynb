{
 "cells": [
  {
   "cell_type": "markdown",
   "id": "0ca96372",
   "metadata": {},
   "source": [
    "---\n",
    "layout: page\n",
    "title: 1.2 Hacks\n",
    "description: Popcorn & HW Hacks for 1.2\n",
    "toc: true\n",
    "type: hacks\n",
    "permalink: /blogs/hacks-1.2/\n",
    "categories: [CSA Classwork]\n",
    "---"
   ]
  },
  {
   "cell_type": "markdown",
   "id": "53928ed5",
   "metadata": {},
   "source": [
    "## Popcorn Hack #1:"
   ]
  },
  {
   "cell_type": "code",
   "execution_count": 12,
   "id": "a9314507",
   "metadata": {
    "vscode": {
     "languageId": "java"
    }
   },
   "outputs": [
    {
     "name": "stdout",
     "output_type": "stream",
     "text": [
      "Favorite food: Pizza\n",
      "Age: 16\n",
      "Height: 5.5 feet\n",
      "Likes pizza: true\n",
      "Favorite color starts with: B\n",
      "Born in: 2008\n"
     ]
    }
   ],
   "source": [
    "public class Favorites {\n",
    "    \n",
    "    public static void main(String[] args) {\n",
    "\n",
    "        String food = \"Pizza\";\n",
    "        int age = 16;\n",
    "        double height = 5.5;\n",
    "        boolean likesPizza = true;\n",
    "        char color = 'B';\n",
    "        final int BIRTH_YEAR = 2008;\n",
    "                \n",
    "        System.out.println(\"Favorite food: \" + food);\n",
    "        System.out.println(\"Age: \" + age);\n",
    "        System.out.println(\"Height: \" + height + \" feet\");\n",
    "        System.out.println(\"Likes pizza: \" + likesPizza);\n",
    "        System.out.println(\"Favorite color starts with: \" + color);\n",
    "        System.out.println(\"Born in: \" + BIRTH_YEAR);\n",
    "    }\n",
    "\n",
    "}\n",
    "\n",
    "Favorites.main(null);"
   ]
  },
  {
   "cell_type": "markdown",
   "id": "fe5129cd",
   "metadata": {},
   "source": [
    "## Popcorn Hack #2:\n",
    "\n",
    "1. int\n",
    "2. String\n",
    "3. boolean\n",
    "4. char\n",
    "5. double\n",
    "6. final int\n",
    "\n",
    "## Homework Hack:"
   ]
  },
  {
   "cell_type": "code",
   "execution_count": 13,
   "id": "24e4c7e5",
   "metadata": {
    "vscode": {
     "languageId": "java"
    }
   },
   "outputs": [
    {
     "name": "stdout",
     "output_type": "stream",
     "text": [
      "Student: John Smith\n",
      "Class: AP Computer Science A\n",
      "Test Scores: 92, 85, 87\n",
      "Average Score: 88.0\n",
      "Letter Grade: B\n"
     ]
    }
   ],
   "source": [
    "public class GradeCalculator {\n",
    "    public static void main(String[] args) {\n",
    "\n",
    "        final String STUDENT_NAME = \"John Smith\";\n",
    "        final String CLASS_NAME = \"AP Computer Science A\";\n",
    "\n",
    "        int score1 = 92;\n",
    "        int score2 = 85;\n",
    "        int score3 = 87;\n",
    "\n",
    "        double average = (score1 + score2 + score3) / 3.0;\n",
    "\n",
    "        String letterGrade;\n",
    "        if (average >= 90) {\n",
    "            letterGrade = \"A\";\n",
    "        } else if (average >= 80) {\n",
    "            letterGrade = \"B\";\n",
    "        } else if (average >= 70) {\n",
    "            letterGrade = \"C\";\n",
    "        } else if (average >= 60) {\n",
    "            letterGrade = \"D\";\n",
    "        } else {\n",
    "            letterGrade = \"F\";\n",
    "        }\n",
    "\n",
    "        System.out.println(\"Student: \" + STUDENT_NAME);\n",
    "        System.out.println(\"Class: \" + CLASS_NAME);\n",
    "        System.out.println(\"Test Scores: \" + score1 + \", \" + score2 + \", \" + score3);\n",
    "        System.out.println(\"Average Score: \" + average);\n",
    "        System.out.println(\"Letter Grade: \" + letterGrade);\n",
    "    }\n",
    "}\n",
    "\n",
    "GradeCalculator.main(null);"
   ]
  }
 ],
 "metadata": {
  "kernelspec": {
   "display_name": "java (JJava/j!)",
   "language": "java",
   "name": "jbang-jjava"
  },
  "language_info": {
   "codemirror_mode": "java",
   "file_extension": ".jshell",
   "mimetype": "text/x-java-source",
   "name": "Java",
   "pygments_lexer": "java",
   "version": "21.0.8+9-Ubuntu-0ubuntu124.04.1"
  }
 },
 "nbformat": 4,
 "nbformat_minor": 5
}
