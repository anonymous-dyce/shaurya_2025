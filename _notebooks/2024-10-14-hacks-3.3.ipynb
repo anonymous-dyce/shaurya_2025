{
 "cells": [
  {
   "cell_type": "markdown",
   "metadata": {},
   "source": [
    "---\n",
    "layout: post\n",
    "title: 3.3 Hacks\n",
    "description: Popcorn & HW Hacks for Big Idea 3 Topic 3\n",
    "toc: true\n",
    "type: hacks\n",
    "permalink: /posts/2024/10/14/hacks-3.3_IPYNB_2_.html\n",
    "---"
   ]
  },
  {
   "cell_type": "markdown",
   "metadata": {},
   "source": [
    "### Python Popcorn hacks:"
   ]
  },
  {
   "cell_type": "code",
   "execution_count": 3,
   "metadata": {},
   "outputs": [
    {
     "name": "stdout",
     "output_type": "stream",
     "text": [
      "42\n",
      "15\n",
      "15\n"
     ]
    }
   ],
   "source": [
    "int_list = [2, 5, 8, 11, 16]\n",
    "print(sum(int_list))\n",
    "\n",
    "popcorn_cost = int(input(\"Enter the cost per bag of popcorn: \"))\n",
    "popcorn_amt = int(input(\"Enter the number of popcorn bags you want to buy: \"))\n",
    "total_cost = popcorn_amt * popcorn_cost\n",
    "print(\"The total cost is\", total_cost)\n",
    "\n",
    "n = int(input(\"Enter a number: \"))\n",
    "total_sum = 0\n",
    "for i in range(1,n):\n",
    "    total_sum += i\n",
    "print(\"The sum of all numbers between 1 and your number is\", total_sum)"
   ]
  },
  {
   "cell_type": "markdown",
   "metadata": {},
   "source": [
    "### Python Homework hacks:"
   ]
  },
  {
   "cell_type": "code",
   "execution_count": 6,
   "metadata": {},
   "outputs": [
    {
     "name": "stdout",
     "output_type": "stream",
     "text": [
      "The mean is 8\n",
      "128.0\n",
      "64.0\n",
      "32.0\n",
      "16.0\n",
      "8.0\n",
      "4.0\n",
      "2.0\n",
      "1.0\n"
     ]
    }
   ],
   "source": [
    "import math\n",
    "\n",
    "int_list = [2, 5, 8, 11, 16]\n",
    "\n",
    "mean = int(sum(int_list) / len(int_list)) #in case the mean is a repeating decimal\n",
    "print(\"The mean is\", mean)\n",
    "\n",
    "if len(int_list) % 2 == 0:\n",
    "    median = int_list[math.ceil(len(int_list) / 2)]\n",
    "    print(\"The median is\", median)\n",
    "elif len(int_list) % 2 == 0:\n",
    "    median1 = int_list[math.ceil(len(int_list) / 2)]\n",
    "    median2 = int_list[math.ceil(len(int_list) / 2) - 1]\n",
    "    print(\"The median is\", median1, \"and\", median2)\n",
    "\n",
    "\n",
    "def collatz():\n",
    "    a = int(input(\"Enter any number\"))\n",
    "    while a != 1:\n",
    "        if a % 2 == 0:\n",
    "            a /= 2\n",
    "            print(a)\n",
    "        elif a % 2 == 1:\n",
    "            a *= 3\n",
    "            a += 1\n",
    "            print(a)\n",
    "\n",
    "collatz()"
   ]
  },
  {
   "cell_type": "markdown",
   "metadata": {},
   "source": [
    "### JavaScript Popcorn Hacks:"
   ]
  },
  {
   "cell_type": "code",
   "execution_count": null,
   "metadata": {
    "vscode": {
     "languageId": "javascript"
    }
   },
   "outputs": [],
   "source": [
    "%%js\n",
    "\n",
    "const result = (8 * 4) + (16 / 2) - 4; // Example: (8 * 4) + (16 / 2) - 4 = 32\n",
    "\n",
    "console.log(\"The result is:\", result);\n",
    "\n",
    "\n",
    "\n",
    "const bread = prompt(\"What type of bread would you like: \");\n",
    "const filling = prompt(\"What filling would you like: \");\n",
    "const sauce = prompt(\"What sauce would you like: \");\n",
    "const extras = prompt(\"Any extras (lettuce, cheese, etc.): \");\n",
    "\n",
    "const sandwichName = prompt(\"What would you like to name your sandwich: \");\n",
    "\n",
    "console.log(\"YOUR ORDER: One \" + sandwichName + \" with \" + bread + \", \" + filling + \", \" + sauce + \", and \" + extras);\n",
    "console.log(\"Your sandwich is ready: \" + sandwichName);\n",
    "\n",
    "\n",
    "\n",
    "const choice1 = prompt(\"You see a fight at school. Do you break it up or mind your own business?\").toLowerCase();\n",
    "\n",
    "if (choice1 === \"break it up\") {\n",
    "    const outcome1 = prompt(\"You successfully break up the fight! Do you talk to the fighters or leave?\").toLowerCase();\n",
    "    if (outcome1 === \"talk to the fighters\") {\n",
    "        console.log(\"You helped them resolve their issues and made new friends!\");\n",
    "    } else {\n",
    "        console.log(\"You walk away, feeling safe.\");\n",
    "    }\n",
    "} else {\n",
    "    const outcome2 = prompt(\"You ignore it. Later, you hear rumors about it. Do you investigate or ignore?\").toLowerCase();\n",
    "    if (outcome2 === \"investigate\") {\n",
    "        console.log(\"You find out it was over something silly and laugh it off.\");\n",
    "    } else {\n",
    "        console.log(\"You decide its best to not hear about it anymore.\");\n",
    "    }\n",
    "}"
   ]
  },
  {
   "cell_type": "markdown",
   "metadata": {},
   "source": [
    "### JavaScript Homework hacks:"
   ]
  },
  {
   "cell_type": "code",
   "execution_count": 7,
   "metadata": {
    "vscode": {
     "languageId": "javascript"
    }
   },
   "outputs": [
    {
     "data": {
      "application/javascript": "\nfunction gcd(x, y) {\n    while (y !== 0) {\n        const temp = y;\n        y = x % y;\n        x = temp;\n    }\n    return x;\n}\n\nconst a = prompt(\"Enter the first number: \");\nconst b = prompt(\"Enter the second number: \");\n\nconst gcdValue = gcd(a, b);\nconst lcmValue = (a * b) / gcdValue; // Using the relationship between GCD and LCM\n\nreturn { gcd: gcdValue, lcm: lcmValue };\n",
      "text/plain": [
       "<IPython.core.display.Javascript object>"
      ]
     },
     "metadata": {},
     "output_type": "display_data"
    }
   ],
   "source": [
    "%%js\n",
    "\n",
    "function gcd(x, y) {\n",
    "    while (y !== 0) {\n",
    "        const temp = y;\n",
    "        y = x % y;\n",
    "        x = temp;\n",
    "    }\n",
    "    return x;\n",
    "}\n",
    "\n",
    "const a = parseInt(prompt(\"Enter the first number: \"), 10); // Parse input as integers\n",
    "const b = parseInt(prompt(\"Enter the second number: \"), 10);\n",
    "\n",
    "const gcdValue = gcd(a, b);\n",
    "const lcmValue = (a * b) / gcdValue; // Using the relationship between GCD and LCM\n",
    "\n",
    "console.log(\"gcd:\", gcdValue);\n",
    "console.log(\"lcm:\", lcmValue);\n",
    "\n",
    "const n = prompt(\"Enter a number greater than 1: \");\n",
    "const factors = [];\n",
    "while (n % 2 === 0) {\n",
    "    factors.push(2);\n",
    "    n /= 2;\n",
    "}\n",
    "\n",
    "// n must be odd at this point, so we can skip even numbers\n",
    "for (let i = 3; i <= n; i += 2) {\n",
    "    while (n % i === 0) {\n",
    "        factors.push(i);\n",
    "        n /= i;\n",
    "    }\n",
    "}\n",
    "\n",
    "if (n > 2) {\n",
    "    factors.push(n);\n",
    "}\n",
    "console.log(factors)"
   ]
  }
 ],
 "metadata": {
  "kernelspec": {
   "display_name": "venv",
   "language": "python",
   "name": "python3"
  },
  "language_info": {
   "codemirror_mode": {
    "name": "ipython",
    "version": 3
   },
   "file_extension": ".py",
   "mimetype": "text/x-python",
   "name": "python",
   "nbconvert_exporter": "python",
   "pygments_lexer": "ipython3",
   "version": "3.12.3"
  }
 },
 "nbformat": 4,
 "nbformat_minor": 2
}
