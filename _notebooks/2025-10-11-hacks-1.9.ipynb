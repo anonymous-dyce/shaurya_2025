{
 "cells": [
  {
   "cell_type": "markdown",
   "id": "68c614f7",
   "metadata": {},
   "source": [
    "---\n",
    "layout: page\n",
    "title: 1.9 Hacks\n",
    "description: Popcorn & HW Hacks for 1.9\n",
    "toc: true\n",
    "type: hacks\n",
    "permalink: /blogs/hacks-1.9/\n",
    "categories: [CSA Classwork]\n",
    "---\n",
    "\n",
    "## Popcorn Hack #1:"
   ]
  },
  {
   "cell_type": "code",
   "execution_count": 10,
   "id": "0217b8fa",
   "metadata": {
    "vscode": {
     "languageId": "java"
    }
   },
   "outputs": [
    {
     "name": "stdout",
     "output_type": "stream",
     "text": [
      "9\n",
      "-2\n",
      "3.5\n",
      "2.0\n"
     ]
    }
   ],
   "source": [
    "public class PopcornMax {\n",
    "    // int version of max\n",
    "    public static int max(int a, int b) {\n",
    "        return (a > b) ? a : b;\n",
    "    }\n",
    "\n",
    "    // double version of max\n",
    "    public static double max(double a, double b) {\n",
    "        return (a > b) ? a : b;\n",
    "    }\n",
    "\n",
    "    public static void main(String[] args) {\n",
    "        System.out.println(max(3, 9));      \n",
    "        System.out.println(max(-2, -7));    \n",
    "        System.out.println(max(3.5, 2.9));  \n",
    "        System.out.println(max(2, 2.0));    \n",
    "    }\n",
    "}\n",
    "\n",
    "\n",
    "PopcornMax.main(null);"
   ]
  },
  {
   "cell_type": "markdown",
   "id": "6be41bb7",
   "metadata": {},
   "source": [
    "## Popcorn Hack #2:"
   ]
  },
  {
   "cell_type": "code",
   "execution_count": 9,
   "id": "1b08a340",
   "metadata": {
    "vscode": {
     "languageId": "java"
    }
   },
   "outputs": [
    {
     "name": "stdout",
     "output_type": "stream",
     "text": [
      "int:42\n",
      "str:hello\n",
      "str:AB\n"
     ]
    }
   ],
   "source": [
    "public class PopcornPrint {\n",
    "    // int version of print\n",
    "    public static void print(int n) {\n",
    "        System.out.println(\"int:\" + n);\n",
    "    }\n",
    "\n",
    "    // String version of print\n",
    "    public static void print(String s) {\n",
    "        System.out.println(\"str:\" + s);\n",
    "    }\n",
    "\n",
    "    public static void main(String[] args) {\n",
    "        print(42);          // expected: int:42\n",
    "        print(\"hello\");     // expected: str:hello\n",
    "        print('A' + \"B\");   // char + String → String → expected: AB\n",
    "    }\n",
    "}\n",
    "\n",
    "\n",
    "PopcornPrint.main(null);"
   ]
  },
  {
   "cell_type": "markdown",
   "id": "87d23cc3",
   "metadata": {},
   "source": [
    "## Homework Hacks:\n",
    "\n",
    "#### Short answers:\n",
    "\n",
    "1. They can’t both exist because they have identical parameters, and Java doesn’t allow overloading by return type alone.\n",
    "\n",
    "2. Parameters are method input variables, while arguments are the actual values passed to them.\n",
    "\n",
    "### Coding Tasks:\n",
    "\n",
    "##### Overloads of abs:"
   ]
  },
  {
   "cell_type": "code",
   "execution_count": 6,
   "id": "ca9c9841",
   "metadata": {
    "vscode": {
     "languageId": "java"
    }
   },
   "outputs": [
    {
     "name": "stdout",
     "output_type": "stream",
     "text": [
      "abs(-5) = 5\n",
      "abs(-3.14) = 3.14\n",
      "abs(-100L) = 100\n"
     ]
    }
   ],
   "source": [
    "// Absolute value overloads\n",
    "int abs(int x) {\n",
    "    return x < 0 ? -x : x;\n",
    "}\n",
    "\n",
    "double abs(double x) {\n",
    "    return x < 0 ? -x : x;\n",
    "}\n",
    "\n",
    "long abs(long x) {\n",
    "    return x < 0 ? -x : x;\n",
    "}\n",
    "\n",
    "\n",
    "System.out.println(\"abs(-5) = \" + abs(-5));        // 5\n",
    "System.out.println(\"abs(-3.14) = \" + abs(-3.14));  // 3.14\n",
    "System.out.println(\"abs(-100L) = \" + abs(-100L));  // 100"
   ]
  },
  {
   "cell_type": "markdown",
   "id": "14f50a9b",
   "metadata": {},
   "source": [
    "## Concat overloads:"
   ]
  },
  {
   "cell_type": "code",
   "execution_count": 5,
   "id": "50a7455b",
   "metadata": {
    "vscode": {
     "languageId": "java"
    }
   },
   "outputs": [
    {
     "name": "stdout",
     "output_type": "stream",
     "text": [
      "HelloWorld\n",
      "HiHiHi\n"
     ]
    }
   ],
   "source": [
    "// Concatenation overloads\n",
    "String concat(String a, String b) {\n",
    "    return a + b;\n",
    "}\n",
    "\n",
    "String concat(String a, int n) {\n",
    "    StringBuilder sb = new StringBuilder();\n",
    "    for (int i = 0; i < n; i++) {\n",
    "        sb.append(a);\n",
    "    }\n",
    "    return sb.toString();\n",
    "}\n",
    "\n",
    "\n",
    "System.out.println(concat(\"Hello\", \"World\"));  \n",
    "System.out.println(concat(\"Hi\", 3));  "
   ]
  },
  {
   "cell_type": "markdown",
   "id": "4191b9ff",
   "metadata": {},
   "source": [
    "## Show overloads:"
   ]
  },
  {
   "cell_type": "code",
   "execution_count": 4,
   "id": "bef0914e",
   "metadata": {
    "vscode": {
     "languageId": "java"
    }
   },
   "outputs": [
    {
     "name": "stdout",
     "output_type": "stream",
     "text": [
      "int\n",
      "long\n",
      "double\n"
     ]
    }
   ],
   "source": [
    "// Show method overloads\n",
    "void show(int x) {\n",
    "    System.out.println(\"int\");\n",
    "}\n",
    "\n",
    "void show(double x) {\n",
    "    System.out.println(\"double\");\n",
    "}\n",
    "\n",
    "void show(long x) {\n",
    "    System.out.println(\"long\");\n",
    "}\n",
    "\n",
    "\n",
    "show(7);      \n",
    "show(7L);     \n",
    "show(7.0);  "
   ]
  },
  {
   "cell_type": "markdown",
   "id": "2b0d1a83",
   "metadata": {},
   "source": [
    "## FRQ Questions:\n",
    "\n",
    "#### FRQ 1:"
   ]
  },
  {
   "cell_type": "code",
   "execution_count": 3,
   "id": "a87e3c1a",
   "metadata": {
    "vscode": {
     "languageId": "java"
    }
   },
   "outputs": [
    {
     "name": "stdout",
     "output_type": "stream",
     "text": [
      "1\n",
      "-1\n",
      "1\n",
      "-1\n"
     ]
    }
   ],
   "source": [
    "public class Frq1 {\n",
    "\n",
    "    // Assumptions & constraints:\n",
    "    // - s and target are non-null\n",
    "    // - For char version, return first occurrence or -1 if not found\n",
    "    // - For String version, return index of first occurrence of substring or -1\n",
    "    // - Do not use built-in String.indexOf for substring\n",
    "\n",
    "    // Find first occurrence of a character\n",
    "    public static int indexOf(char target, String s) {\n",
    "        for (int i = 0; i < s.length(); i++) {\n",
    "            if (s.charAt(i) == target) {\n",
    "                return i;\n",
    "            }\n",
    "        }\n",
    "        return -1;\n",
    "    }\n",
    "\n",
    "    // Find first occurrence of a substring\n",
    "    public static int indexOf(String target, String s) {\n",
    "        if (target.length() == 0) return 0; // empty string at start\n",
    "        for (int i = 0; i <= s.length() - target.length(); i++) {\n",
    "            boolean found = true;\n",
    "            for (int j = 0; j < target.length(); j++) {\n",
    "                if (s.charAt(i + j) != target.charAt(j)) {\n",
    "                    found = false;\n",
    "                    break;\n",
    "                }\n",
    "            }\n",
    "            if (found) return i;\n",
    "        }\n",
    "        return -1;\n",
    "    }\n",
    "\n",
    "    public static void main(String[] args) {\n",
    "        System.out.println(indexOf('a', \"banana\"));      // expected: 1\n",
    "        System.out.println(indexOf('z', \"banana\"));      // expected: -1\n",
    "        System.out.println(indexOf(\"ana\", \"banana\"));    // expected: 1\n",
    "        System.out.println(indexOf(\"xyz\", \"banana\"));    // expected: -1\n",
    "    }\n",
    "}\n",
    "\n",
    "Frq1.main(null);"
   ]
  },
  {
   "cell_type": "markdown",
   "id": "56d41913",
   "metadata": {},
   "source": [
    "#### FRQ 2:"
   ]
  },
  {
   "cell_type": "code",
   "execution_count": 2,
   "id": "18df8f9f",
   "metadata": {
    "vscode": {
     "languageId": "java"
    }
   },
   "outputs": [
    {
     "name": "stdout",
     "output_type": "stream",
     "text": [
      "5\n",
      "0\n",
      "10\n",
      "5.0\n",
      "3.2\n"
     ]
    }
   ],
   "source": [
    "public class Frq2_Clamp {\n",
    "\n",
    "    // Clamp int value to [low, high], swap if low > high\n",
    "    public static int clamp(int value, int low, int high) {\n",
    "        if (low > high) { // swap\n",
    "            int temp = low;\n",
    "            low = high;\n",
    "            high = temp;\n",
    "        }\n",
    "        if (value < low) return low;\n",
    "        if (value > high) return high;\n",
    "        return value;\n",
    "    }\n",
    "\n",
    "    // Clamp double value to [low, high], swap if low > high\n",
    "    public static double clamp(double value, double low, double high) {\n",
    "        if (low > high) { // swap\n",
    "            double temp = low;\n",
    "            low = high;\n",
    "            high = temp;\n",
    "        }\n",
    "        if (value < low) return low;\n",
    "        if (value > high) return high;\n",
    "        return value;\n",
    "    }\n",
    "\n",
    "    public static void main(String[] args) {\n",
    "        System.out.println(clamp(5, 1, 10));    // expected: 5\n",
    "        System.out.println(clamp(-2, 0, 10));   // expected: 0\n",
    "        System.out.println(clamp(15, 0, 10));   // expected: 10\n",
    "        System.out.println(clamp(5.5, 1.0, 5.0)); // swap → expected: 5.0\n",
    "        System.out.println(clamp(3.2, 5.0, 1.0)); // swap → expected: 3.2\n",
    "    }\n",
    "}\n",
    "\n",
    "Frq2_Clamp.main(null);"
   ]
  }
 ],
 "metadata": {
  "kernelspec": {
   "display_name": "java (JJava/j!)",
   "language": "java",
   "name": "jbang-jjava"
  },
  "language_info": {
   "codemirror_mode": "java",
   "file_extension": ".jshell",
   "mimetype": "text/x-java-source",
   "name": "Java",
   "pygments_lexer": "java",
   "version": "21.0.8+9-Ubuntu-0ubuntu124.04.1"
  }
 },
 "nbformat": 4,
 "nbformat_minor": 5
}
