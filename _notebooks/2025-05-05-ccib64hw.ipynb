{
 "cells": [
  {
   "cell_type": "markdown",
   "id": "451ec335",
   "metadata": {},
   "source": [
    "---\n",
    "layout: page\n",
    "title: Color Codes, Images, Base 64 HW\n",
    "toc: true\n",
    "permalink: /binary_history/ccib64hw\n",
    "categories: [CSP Classwork]\n",
    "---"
   ]
  },
  {
   "cell_type": "markdown",
   "id": "fda775ce",
   "metadata": {},
   "source": [
    "## Convert Hex Codes to RGB & RGBA (A = 1)\n",
    "\n",
    "| Hex Code | RGB Format           | RGBA Format (A=1)        |\n",
    "|----------|----------------------|--------------------------|\n",
    "| #1E90FF  | `rgb(30, 144, 255)`  | `rgba(30, 144, 255, 1)`  |\n",
    "| #32CD32  | `rgb(50, 205, 50)`   | `rgba(50, 205, 50, 1)`   |\n",
    "| #FFD700  | `rgb(255, 215, 0)`   | `rgba(255, 215, 0, 1)`   |\n",
    "\n",
    "---\n",
    "\n",
    "## RGBA for 50%-Transparent Teal\n",
    "\n",
    "```css\n",
    "rgba(0, 128, 128, 0.5)\n",
    "```\n",
    "\n",
    "## 2×2 Icon Design\n",
    "\n",
    "### Chosen Colors and Hex Codes\n",
    "\n",
    "- Red: `#FF0000`\n",
    "- Green: `#00FF00`\n",
    "- Blue: `#0000FF`\n",
    "- Yellow: `#FFFF00`\n",
    "\n",
    "### Pixel Layout\n",
    "\n",
    "|       |       |\n",
    "|-------|-------|\n",
    "| Red   | Green |\n",
    "| Blue  | Yellow |\n",
    "\n",
    "---\n",
    "\n",
    "## Storage Calculation at 24-bit Color Depth\n",
    "\n",
    "- Bits per pixel: 24  \n",
    "- Total pixels: 2 × 2 = 4  \n",
    "- Total bits: 24 × 4 = 96 bits  \n",
    "- Total bytes: 96 ÷ 8 = 12 bytes\n",
    "\n",
    "---\n",
    "\n",
    "## Base64 Encode the String “Cat”\n",
    "\n",
    "- Original string: `Cat`\n",
    "- Base64-encoded result: `Q2F0`\n",
    "\n",
    "---\n",
    "\n",
    "## 1×1 Red PNG in Base64\n",
    "\n",
    "```html\n",
    "<img src=\"data:image/png;base64,iVBORw0KGgoAAAANSUhEUgAAAAEAAAABCAQAAAC1HAwCAAAAC0lEQVR4nGMAAQAABQABDQottAAAAABJRU5ErkJggg==\" />\n",
    "```"
   ]
  }
 ],
 "metadata": {
  "language_info": {
   "name": "python"
  }
 },
 "nbformat": 4,
 "nbformat_minor": 5
}
