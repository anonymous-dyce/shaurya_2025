{
 "cells": [
  {
   "cell_type": "raw",
   "metadata": {
    "vscode": {
     "languageId": "raw"
    }
   },
   "source": [
    "---\n",
    "layout: page\n",
    "title: Individual Blog for Sprint 2 \n",
    "permalink: /blogs/sprint2-individual-blog/ \n",
    "---"
   ]
  },
  {
   "cell_type": "markdown",
   "metadata": {},
   "source": [
    "# Contributions to lessons\n",
    "\n",
    "- Overall, I feel like I had a decent contribution to the project, but I could have done more. Everything I did was almost completely towards the lessons. \n",
    "- I worked on 3.8.5 with Arnav in the time I had for doing my lesson. I collaborated with Arnav to input topics such as nested if statements and for loops, using try/except, recursion, popcorn/homework hacks, and a meme at the end of the page.\n",
    "\n",
    "URL to the lesson I contributed on: \n",
    "- [3.8.5](https://nighthawkcoders.github.io/portfolio_2025/csp/big-idea/p4/3-8-5)\n",
    "\n",
    "In my opinion, something that made our lesson memorable was adding the memes at the end of the while loop and for loop lessons, since it required creativity and it made the lesson somewhat humorous.\n",
    "\n",
    "## Lesson summaries (other groups)\n",
    "\n",
    "- 3.1: Talks about the variables and naming conventions as well as data types in both python and javascript\n",
    "- 3.2: Teaches more in depth of each data type in both languages\n",
    "- 3.3: Mathematical expressions and relevant information such as sequencing \n",
    "- 3.4: String functions (for example, how to find/replace items from a string)\n",
    "- 3.5: Booleans, relational operators, and logical operators\n",
    "- 3.6: How to use conditionals like if, else statements\n",
    "- 3.7: How to use nested conditionals (if multiple things are true, then; print different results based on where the statement fails)\n",
    "- 3.8 (Our lesson): How to use loops such as for loops and while loops with various uses and methods\n",
    "- 3.10A: List operations such as appending a list / list item, indexing within a list\n",
    "- 3.10B: Assigning values to a list, finding the length of a list, minimum values in a list, finding a certain item \n",
    "\n",
    "## Lesson Hacks \n",
    "\n",
    "- I dont have my lesson hacks yet since my python interpreter didnt work on KASM, but I got a new laptop yesterday and am trying to get the hacks done as quickly as possible.\n",
    "\n",
    "## Most memorable lesson \n",
    "\n",
    "- In my opinion, the most memorable lesson was 3.1 and 3.4. They made everyone play a kahoot during their lesson, which instantly made people become focused as kahoot is a class favorite. \n"
   ]
  }
 ],
 "metadata": {
  "language_info": {
   "name": "python"
  }
 },
 "nbformat": 4,
 "nbformat_minor": 2
}
