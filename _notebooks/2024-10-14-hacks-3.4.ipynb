{
 "cells": [
  {
   "cell_type": "markdown",
   "metadata": {},
   "source": [
    "---\n",
    "layout: page\n",
    "title: 3.4 Hacks\n",
    "description: Popcorn & HW Hacks for Big Idea 3 Topic 4\n",
    "toc: true\n",
    "type: hacks\n",
    "permalink: /blogs/hacks-3.4\n",
    "---"
   ]
  },
  {
   "cell_type": "markdown",
   "metadata": {},
   "source": [
    "### Popcorn Hack 7"
   ]
  },
  {
   "cell_type": "code",
   "execution_count": 13,
   "metadata": {},
   "outputs": [
    {
     "name": "stdout",
     "output_type": "stream",
     "text": [
      "4 \n",
      "\n",
      "The word 'baby' is word number 35 in the song.\n",
      "\n",
      "Clap along if you feel like that's what you wanna do\n",
      "Sunshine she's here, you can take a break\n",
      "I'm a hot air balloon that could go to space\n",
      "With the air, like I don't care baby by the way\n",
      "Because I'm happy\n",
      "Clap along if you feel like a room without a roof\n",
      "Because I'm happy\n",
      "Clap along if you feel like happiness is the truth\n",
      "Because I'm happy\n",
      "Clap along if you know what happiness is to you\n",
      "Because I'm happy\n",
      "Clap along if you feel like that's what you wanna do \n",
      "\n",
      "Clap along if you feel like a room without a roof, I'm a hot air balloon that could go to space\n"
     ]
    }
   ],
   "source": [
    "lyrics = '''\n",
    "It might seem crazy what I'm about to say\n",
    "Sunshine she's here, you can take a break\n",
    "I'm a hot air balloon that could go to space\n",
    "With the air, like I don't care baby by the way\n",
    "Because I'm happy\n",
    "Clap along if you feel like a room without a roof\n",
    "Because I'm happy\n",
    "Clap along if you feel like happiness is the truth\n",
    "Because I'm happy\n",
    "Clap along if you know what happiness is to you\n",
    "Because I'm happy\n",
    "Clap along if you feel like that's what you wanna do'''\n",
    "\n",
    "words = lyrics.split() #each word within the lyrics\n",
    "lines = lyrics.split('\\n') #each line\n",
    "\n",
    "print(words.count(\"happy\"), \"\\n\") #counts how many times \"happy\" appears\n",
    "\n",
    "baby_index = words.index(\"baby\") + 1  # Adding 1 for 1-based index\n",
    "\n",
    "print(\"The word 'baby' is word number\", baby_index, \"in the song.\")\n",
    "\n",
    "print(lyrics.replace(lines[1], lines[-1]), \"\\n\") #replaces the first verse with the last (index #-1) verse\n",
    "\n",
    "print(lines[6] + \", \" + lines[3]) #concatenates the two verses\n"
   ]
  },
  {
   "cell_type": "markdown",
   "metadata": {},
   "source": [
    "### Popcorn Hack 8"
   ]
  },
  {
   "cell_type": "code",
   "execution_count": 41,
   "metadata": {
    "vscode": {
     "languageId": "javascript"
    }
   },
   "outputs": [
    {
     "data": {
      "application/javascript": "\nconst flower = \"Tulip\";\nconst animal = \"Horse\";\nconst creature = `${flower} + ${animal} = Turse`;\n\n// Story about the new creature\nconst creatureName = \"Turse\";\nconst creatureDescription = \"a creature with the body of a horse and the head of a tulip (facing in the same direction as its nose\";\nconst story = `\nOnce upon a time, there was a creature named ${creatureName}.\n\nIt was ${creatureDescription}. It loved to be in the sun, and had a mouth in the middle of its ${flower}-head that could eat grass.\n\nHowever, it never wanted to show himself to others because it feared he would get made fun of.\n\nOne day, there was a hunter searching for deers in the forest. As ${creatureName} went for a stroll, the hunter found it!!!\n\nHe captured ${creatureName} and took it to his warehouse, where he thought of killing and examining it. In the warehouse, it met other animals, and they were awestruck to see it!\n\nThey asked it several questions and it told them that it needed to escape the warehouse. The animals agreed because they thought ${creatureName} was very rare and needed to be free.\n\nThey showed it a window only one animal (or creature) could escape from, and it thanked them and quickly escaped, just before the hunter came back into the shed.\n\n${creatureName} realized that everyone loved it and it shouldn't have been scared of others making fun of it. To be continued...\n`;\n\nconsole.log(creature);\nconsole.log(story);\n",
      "text/plain": [
       "<IPython.core.display.Javascript object>"
      ]
     },
     "metadata": {},
     "output_type": "display_data"
    }
   ],
   "source": [
    "%%js\n",
    "\n",
    "const flower = \"Tulip\";\n",
    "const animal = \"Horse\";\n",
    "const creature = `${flower} + ${animal} = Turse`;\n",
    "\n",
    "// Story about the new creature\n",
    "const creatureName = \"Turse\";\n",
    "const creatureDescription = \"a creature with the body of a horse and the head of a tulip (facing in the same direction as its nose\";\n",
    "const story = `\n",
    "Once upon a time, there was a creature named ${creatureName}.\n",
    "\n",
    "It was ${creatureDescription}. It loved to be in the sun, and had a mouth in the middle of its ${flower}-head that could eat grass.\n",
    "\n",
    "However, it never wanted to show himself to others because it feared he would get made fun of.\n",
    "\n",
    "One day, there was a hunter searching for deers in the forest. As ${creatureName} went for a stroll, the hunter found it!!!\n",
    "\n",
    "He captured ${creatureName} and took it to his warehouse, where he thought of killing and examining it. In the warehouse, it met other animals, and they were awestruck to see it!\n",
    "\n",
    "They asked it several questions and it told them that it needed to escape the warehouse. The animals agreed because they thought ${creatureName} was very rare and needed to be free.\n",
    "\n",
    "They showed it a window only one animal (or creature) could escape from, and it thanked them and quickly escaped, just before the hunter came back into the shed.\n",
    "\n",
    "${creatureName} realized that everyone loved it and it shouldn't have been scared of others making fun of it. To be continued...\n",
    "`;\n",
    "\n",
    "console.log(creature);\n",
    "console.log(story);"
   ]
  },
  {
   "cell_type": "markdown",
   "metadata": {},
   "source": [
    "### Main strings hack"
   ]
  },
  {
   "cell_type": "code",
   "execution_count": 36,
   "metadata": {},
   "outputs": [
    {
     "name": "stdout",
     "output_type": "stream",
     "text": [
      "The sentence: Hello how are you \n",
      "\n",
      "Total number of characters, including spaces: 17 \n",
      "\n",
      "Longest word: Hello \n",
      "Length of longest word: 5\n",
      "Reversed string: uoy era woh olleH\n",
      "the middle words are: how and are\n",
      "The average length of all words in the string are: 3\n",
      "Updated string: Hello how are humans like\n"
     ]
    }
   ],
   "source": [
    "import math\n",
    "sentence = input(\"Enter a sentence (without punctuation): \") #processes everything as string\n",
    "\n",
    "tot_char = len(sentence) #counts total characters\n",
    "\n",
    "wo_spaces = sentence.replace(\" \", \"\")\n",
    "lowercase = sentence.lower()\n",
    "uppercase = sentence.upper()\n",
    "\n",
    "longest_word = \"\" #the default longest word has no letters\n",
    "words = sentence.split()\n",
    "for i in words:\n",
    "    if len(i) >= len(longest_word): #if the length of the first word (and consecutive words) is greater than the previous longest word\n",
    "        longest_word = i #it becomes the new longest word\n",
    "\n",
    "reversed = sentence[::-1] #reverses string\n",
    "\n",
    "mid_word1 = words[math.ceil(len(words) / 2)]\n",
    "mid_word2 = words[math.ceil(len(words) / 2) - 1]\n",
    "\n",
    "def average_len(): #unique function\n",
    "    tot_len = 0\n",
    "    for j in words:\n",
    "        tot_len += len(j)\n",
    "    return int(tot_len / len(words))\n",
    "\n",
    "print(\"The sentence:\", sentence, \"\\n\")\n",
    "print(\"Total number of characters, including spaces:\", tot_char, \"\\n\")\n",
    "print(\"Longest word:\", longest_word, \"\\nLength of longest word:\", len(longest_word))\n",
    "print(\"Reversed string:\", reversed)\n",
    "if len(words) % 2 == 1:\n",
    "    print(\"The middle word is:\", mid_word2)\n",
    "else:\n",
    "    print(f\"the middle words are: {mid_word2} and {mid_word1}\")\n",
    "print(\"The average length of all words in the string are:\", average_len())\n",
    "\n",
    "replace = input(\"\\nEnter a word you want to replace: \") #bonus\n",
    "if replace in sentence:\n",
    "    new = input(\"Enter the new word: \")\n",
    "    updated = sentence.replace(replace, new)\n",
    "    print(\"Updated string:\", updated)\n",
    "else:\n",
    "    print(f\"The word '{replace}' is not in the original string.\")"
   ]
  },
  {
   "cell_type": "code",
   "execution_count": 40,
   "metadata": {
    "vscode": {
     "languageId": "javascript"
    }
   },
   "outputs": [
    {
     "data": {
      "application/javascript": "\nconst sentence = prompt(\"Enter a sentence (without punctuation): \");\n\nconst withoutSpaces = sentence.replace(\" \", \"\")\nconst lowercase = sentence.toLowerCase()\nconst uppercase = sentence.toUpperCase()\n\nconst words = sentence.split(\" \"); // Split the sentence into words\nlet longestWord = \"\"; // Initialize an empty string for the longest word\nfor (let i = 0; i < words.length; i++) {\n    if (words[i].length >= longestWord.length) { // Check if the current word is longer\n        longestWord = words[i]; // Update longestWord\n    }\n}\n\nconst reversedString = input.split('').reverse().join('');\n\nconst n = words.length; // Get the number of words\nlet midWord1, midWord2;\n\nif (n % 2 === 0) { // Check if the number of words is even\n    midWord1 = words[Math.ceil(n / 2) - 1]; // First middle word\n    midWord2 = words[Math.ceil(n / 2)]; // Second middle word\n} else { // If odd, just find the middle word\n    midWord1 = words[Math.floor(n / 2)];\n    midWord2 = null; // No second middle word\n}\n\nfunction averageLen(words) { //unique function\n    let totalLength = 0;\n\n    for (let j = 0; j < words.length; j++) {\n        totalLength += words[j].length;\n    }\n\n    return Math.floor(totalLength / words.length); // Return the average length as an integer\n}\n\nconsole.log(\"The sentence:\", sentence);\nconsole.log(\"Total number of characters, including spaces:\", totalCharacters);\nconsole.log(\"Longest word:\", longestWord, \"\\nLength of longest word:\", longestWord.length);\nconsole.log(\"Reversed string:\", reversedString);\nif (words.length % 2 === 1) {\n    console.log(\"The middle word is:\", midWord);\n} else {\n    console.log(\"The middle words are:\", midWord1, \"and\", midWord2);\n}\nconsole.log(\"The average length of all words in the string is:\", averageLen(words));\n",
      "text/plain": [
       "<IPython.core.display.Javascript object>"
      ]
     },
     "metadata": {},
     "output_type": "display_data"
    }
   ],
   "source": [
    "%%js\n",
    "\n",
    "const sentence = prompt(\"Enter a sentence (without punctuation): \");\n",
    "\n",
    "const withoutSpaces = sentence.replace(\" \", \"\")\n",
    "const lowercase = sentence.toLowerCase()\n",
    "const uppercase = sentence.toUpperCase()\n",
    "\n",
    "const words = sentence.split(\" \"); // Split the sentence into words\n",
    "let longestWord = \"\"; // Initialize an empty string for the longest word\n",
    "for (let i = 0; i < words.length; i++) {\n",
    "    if (words[i].length >= longestWord.length) { // Check if the current word is longer\n",
    "        longestWord = words[i]; // Update longestWord\n",
    "    }\n",
    "}\n",
    "\n",
    "const reversedString = input.split('').reverse().join('');\n",
    "\n",
    "const n = words.length; // Get the number of words\n",
    "let midWord1, midWord2;\n",
    "\n",
    "if (n % 2 === 0) { // Check if the number of words is even\n",
    "    midWord1 = words[Math.ceil(n / 2) - 1]; // First middle word\n",
    "    midWord2 = words[Math.ceil(n / 2)]; // Second middle word\n",
    "} else { // If odd, just find the middle word\n",
    "    midWord1 = words[Math.floor(n / 2)];\n",
    "    midWord2 = null; // No second middle word\n",
    "}\n",
    "\n",
    "function averageLen(words) { //unique function\n",
    "    let totalLength = 0;\n",
    "\n",
    "    for (let j = 0; j < words.length; j++) {\n",
    "        totalLength += words[j].length;\n",
    "    }\n",
    "\n",
    "    return Math.floor(totalLength / words.length); // Return the average length as an integer\n",
    "}\n",
    "\n",
    "console.log(\"The sentence:\", sentence);\n",
    "console.log(\"Total number of characters, including spaces:\", totalCharacters);\n",
    "console.log(\"Longest word:\", longestWord, \"\\nLength of longest word:\", longestWord.length);\n",
    "console.log(\"Reversed string:\", reversedString);\n",
    "if (words.length % 2 === 1) {\n",
    "    console.log(\"The middle word is:\", midWord);\n",
    "} else {\n",
    "    console.log(\"The middle words are:\", midWord1, \"and\", midWord2);\n",
    "}\n",
    "console.log(\"The average length of all words in the string is:\", averageLen(words));"
   ]
  }
 ],
 "metadata": {
  "kernelspec": {
   "display_name": "venv",
   "language": "python",
   "name": "python3"
  },
  "language_info": {
   "codemirror_mode": {
    "name": "ipython",
    "version": 3
   },
   "file_extension": ".py",
   "mimetype": "text/x-python",
   "name": "python",
   "nbconvert_exporter": "python",
   "pygments_lexer": "ipython3",
   "version": "3.12.3"
  }
 },
 "nbformat": 4,
 "nbformat_minor": 2
}
