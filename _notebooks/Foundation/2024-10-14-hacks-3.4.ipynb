{
 "cells": [
  {
   "cell_type": "markdown",
   "metadata": {},
   "source": [
    "---\n",
    "layout: post\n",
    "title: 3.4 Hacks\n",
    "description: Popcorn & HW Hacks for Big Idea 3 Topic 4\n",
    "toc: true\n",
    "type: hacks\n",
    "---"
   ]
  },
  {
   "cell_type": "code",
   "execution_count": 12,
   "metadata": {},
   "outputs": [
    {
     "name": "stdout",
     "output_type": "stream",
     "text": [
      "4 \n",
      "\n",
      "The word 'baby' is word number 35 in the song.\n",
      "\n",
      "Clap along if you feel like that's what you wanna do\n",
      "Sunshine she's here, you can take a break \n",
      "I'm a hot air balloon that could go to space \n",
      "With the air, like I don't care baby by the way \n",
      "Because I'm happy \n",
      "Clap along if you feel like a room without a roof \n",
      "Because I'm happy \n",
      "Clap along if you feel like happiness is the truth \n",
      "Because I'm happy \n",
      "Clap along if you know what happiness is to you \n",
      "Because I'm happy \n",
      "Clap along if you feel like that's what you wanna do \n",
      "\n",
      "Clap along if you feel like a room without a roof , I'm a hot air balloon that could go to space \n"
     ]
    }
   ],
   "source": [
    "lyrics = '''\n",
    "It might seem crazy what I'm about to say \n",
    "Sunshine she's here, you can take a break \n",
    "I'm a hot air balloon that could go to space \n",
    "With the air, like I don't care baby by the way \n",
    "Because I'm happy \n",
    "Clap along if you feel like a room without a roof \n",
    "Because I'm happy \n",
    "Clap along if you feel like happiness is the truth \n",
    "Because I'm happy \n",
    "Clap along if you know what happiness is to you \n",
    "Because I'm happy \n",
    "Clap along if you feel like that's what you wanna do'''\n",
    "\n",
    "words = lyrics.split() #each word within the lyrics\n",
    "lines = lyrics.split('\\n') #each line\n",
    "\n",
    "print(lyrics_word.count(\"happy\"), \"\\n\") #counts how many times \"happy\" appears\n",
    "\n",
    "baby_index = words.index(\"baby\") + 1  # Adding 1 for 1-based index\n",
    "\n",
    "print(\"The word 'baby' is word number\", baby_index, \"in the song.\")\n",
    "\n",
    "print(lyrics.replace(lyrics_line[1], lyrics_line[-1]), \"\\n\") #replaces the first verse with the last (index #-1) verse\n",
    "\n",
    "print(lyrics_line[6] + \", \" + lyrics_line[3]) #concatenates the two verses\n"
   ]
  }
 ],
 "metadata": {
  "kernelspec": {
   "display_name": "venv",
   "language": "python",
   "name": "python3"
  },
  "language_info": {
   "codemirror_mode": {
    "name": "ipython",
    "version": 3
   },
   "file_extension": ".py",
   "mimetype": "text/x-python",
   "name": "python",
   "nbconvert_exporter": "python",
   "pygments_lexer": "ipython3",
   "version": "3.12.3"
  }
 },
 "nbformat": 4,
 "nbformat_minor": 2
}
