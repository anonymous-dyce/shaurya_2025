{
 "cells": [
  {
   "cell_type": "markdown",
   "id": "d4c699b1",
   "metadata": {},
   "source": [
    "---\n",
    "layout: page\n",
    "title: Big O Algorithmic Efficiency HW\n",
    "toc: true\n",
    "permalink: /binary_history/bigOhw\n",
    "categories: [CSP Classwork]\n",
    "---"
   ]
  },
  {
   "cell_type": "markdown",
   "id": "9a0e3f9d",
   "metadata": {},
   "source": [
    "### Homework Hack:\n",
    "\n",
    "#### O(1) Complexity\n",
    "\n",
    "```python\n",
    "def add_two_multiply_three(n):\n",
    "    return (n + 2) * 3\n",
    "```\n",
    "\n",
    "#### O(log n) Complexity\n",
    "\n",
    "```python\n",
    "\n",
    "# Find smallest number greater than target\n",
    "\n",
    "def smallest(nums, target):\n",
    "    left = 0\n",
    "    right = len(nums) - 1\n",
    "    result = -1\n",
    "\n",
    "    while left <= right:\n",
    "        mid = (left + right) // 2\n",
    "        if nums[mid] >= target:\n",
    "            result = mid\n",
    "            right = mid - 1\n",
    "        else:\n",
    "            left = mid + 1\n",
    "\n",
    "    return result\n",
    "```\n",
    "\n",
    "#### O(n) Complexity:\n",
    "\n",
    "```python\n",
    "def factorial(arr):\n",
    "    total = 0\n",
    "    for num in arr:\n",
    "        total *= num\n",
    "    return total\n",
    "```\n",
    "\n",
    "#### O(n²) Complexity:\n",
    "\n",
    "```python\n",
    "def duplicates(arr):\n",
    "    for i in range(len(arr)):\n",
    "        for j in range(i + 1, len(arr)):\n",
    "            if arr[i] == arr[j]:\n",
    "                return True\n",
    "    return False\n",
    "```"
   ]
  }
 ],
 "metadata": {
  "kernelspec": {
   "display_name": "venv",
   "language": "python",
   "name": "python3"
  },
  "language_info": {
   "codemirror_mode": {
    "name": "ipython",
    "version": 3
   },
   "file_extension": ".py",
   "mimetype": "text/x-python",
   "name": "python",
   "nbconvert_exporter": "python",
   "pygments_lexer": "ipython3",
   "version": "3.12.3"
  }
 },
 "nbformat": 4,
 "nbformat_minor": 5
}
